{
  "nbformat": 4,
  "nbformat_minor": 0,
  "metadata": {
    "colab": {
      "provenance": []
    },
    "kernelspec": {
      "name": "python3",
      "display_name": "Python 3"
    },
    "language_info": {
      "name": "python"
    }
  },
  "cells": [
    {
      "cell_type": "code",
      "execution_count": null,
      "metadata": {
        "colab": {
          "base_uri": "https://localhost:8080/"
        },
        "id": "B4gB5HgEPRPa",
        "outputId": "ef924b83-ca67-487d-a9df-64110c3ca51d"
      },
      "outputs": [
        {
          "output_type": "stream",
          "name": "stdout",
          "text": [
            "Microsoft Ads Data:\n",
            "         Date     Campaign type  Impressions  Clicks   Cost  Conversions  \\\n",
            "0  2024-01-01          Audience       9132.0    50.0   26.8          0.0   \n",
            "1  2024-01-01   Performance max        897.0     9.0    7.0          0.0   \n",
            "2  2024-01-01  Search & content      95977.0   561.0  846.5          1.0   \n",
            "3  2024-01-01          Shopping      59860.0   343.0  215.2          1.0   \n",
            "4  2024-01-02          Audience       9926.0    49.0   25.9          0.0   \n",
            "\n",
            "   Revenue  \n",
            "0      0.0  \n",
            "1      0.0  \n",
            "2    168.8  \n",
            "3    143.5  \n",
            "4      0.0  \n",
            "\n",
            "Google Ads Data:\n",
            "         Date    Campaign type  Impressions  Clicks    Cost  Conversions  \\\n",
            "0  2024-01-01    Cross-network     143669.0   896.0   656.3          6.5   \n",
            "1  2024-01-01  Display Network          3.0     0.0     0.0          0.0   \n",
            "2  2024-01-01   Search Network       3701.0   251.0   496.5          4.5   \n",
            "3  2024-01-01          YouTube      36211.0     8.0   115.2          0.0   \n",
            "4  2024-01-02    Cross-network     183496.0  1172.0  1525.0          8.8   \n",
            "\n",
            "   Revenue  \n",
            "0   1410.3  \n",
            "1      0.0  \n",
            "2    576.4  \n",
            "3      0.0  \n",
            "4   3565.7  \n",
            "\n",
            "Meta Ads Data:\n",
            "         Date  Impressions    Reach   Cost  Clicks  Conversions  Revenue\n",
            "0  2024-01-01      36034.0  27263.0  209.1   608.0          4.0    158.2\n",
            "1  2024-01-02      30804.0  22648.0  204.9   516.0         11.0   1412.8\n",
            "2  2024-01-03      26372.0  18947.0  198.7   429.0          4.0    371.5\n",
            "3  2024-01-04      17354.0  11436.0  131.2   324.0          4.0      0.0\n",
            "4  2024-01-05      12036.0   7921.0  114.0   224.0          2.0      0.0\n",
            "\n",
            "Website Landings Data:\n",
            "    User Id Website Landing Time  Is Converted Source Channel Campaign Type\n",
            "0  20a70111  2024-02-29 01:57:19             0    NaN  direct           NaN\n",
            "1  20a70111  2024-02-29 13:58:10             0    NaN  direct           NaN\n",
            "2  58830f30  2024-01-18 13:22:58             0    NaN  direct           NaN\n",
            "3  58830f30  2024-01-19 16:19:37             0    NaN  direct           NaN\n",
            "4  58830f30  2024-01-22 13:33:16             0    NaN  direct           NaN\n"
          ]
        }
      ],
      "source": [
        "import pandas as pd\n",
        "import os\n",
        "\n",
        "\n",
        "# Google Drive file IDs extracted\n",
        "microsoft_ads_file_id = '1S3Umb85XWFMxKmGvEM8k9PpcWP-dRit2'\n",
        "google_ads_file_id = '1hp4saCRnhCOYK_VJHrFaFMlK8SvUX483'\n",
        "meta_ads_file_id = '1VthFjrrgmyXbVzuy6e5soW9cus8DRw94'\n",
        "website_landings_file_id = '1J8ghp2dOApvgH2IB1VUJwwDf81PMXccG'\n",
        "\n",
        "#URL\n",
        "microsoft_ads_url = f'https://drive.google.com/uc?export=download&id={microsoft_ads_file_id}'\n",
        "google_ads_url = f'https://drive.google.com/uc?export=download&id={google_ads_file_id}'\n",
        "meta_ads_url = f'https://drive.google.com/uc?export=download&id={meta_ads_file_id}'\n",
        "website_landings_url = f'https://drive.google.com/uc?export=download&id={website_landings_file_id}'\n",
        "\n",
        "#Load\n",
        "microsoft_ads_df = pd.read_csv(microsoft_ads_url)\n",
        "google_ads_df = pd.read_csv(google_ads_url)\n",
        "meta_ads_df = pd.read_csv(meta_ads_url)\n",
        "website_landings_df = pd.read_csv(website_landings_url)\n",
        "\n",
        "# Preview the data\n",
        "print(\"Microsoft Ads Data:\")\n",
        "print(microsoft_ads_df.head())\n",
        "print(\"\\nGoogle Ads Data:\")\n",
        "print(google_ads_df.head())\n",
        "print(\"\\nMeta Ads Data:\")\n",
        "print(meta_ads_df.head())\n",
        "print(\"\\nWebsite Landings Data:\")\n",
        "print(website_landings_df.head())"
      ]
    },
    {
      "cell_type": "code",
      "source": [
        "microsoft_ads_df.fillna(0, inplace=True)\n",
        "google_ads_df.fillna(0, inplace=True)\n",
        "meta_ads_df.fillna(0, inplace=True)\n",
        "website_landings_df.fillna(0, inplace=True)\n",
        "\n",
        "for df in [microsoft_ads_df, google_ads_df, meta_ads_df, website_landings_df]:\n",
        "    if 'date' in df.columns:\n",
        "        df['date'] = pd.to_datetime(df['date'])\n",
        "\n",
        "combined_data = pd.concat([microsoft_ads_df, google_ads_df, meta_ads_df], axis=0, ignore_index=True)\n"
      ],
      "metadata": {
        "id": "Zax1AA4IQNGG"
      },
      "execution_count": null,
      "outputs": []
    },
    {
      "cell_type": "code",
      "source": [
        "from sklearn.model_selection import train_test_split\n",
        "from sklearn.ensemble import RandomForestRegressor\n",
        "from sklearn.metrics import mean_squared_error\n",
        "\n",
        "features = combined_data[['Cost', 'Impressions', 'Clicks']]\n",
        "target = combined_data['Conversions']\n",
        "\n",
        "X_train, X_test, y_train, y_test = train_test_split(features, target, test_size=0.2, random_state=42)\n",
        "\n",
        "model = RandomForestRegressor(n_estimators=100, random_state=42)\n",
        "model.fit(X_train, y_train)\n",
        "\n",
        "y_pred = model.predict(X_test)\n",
        "rmse = mean_squared_error(y_test, y_pred, squared=False)\n",
        "print(f\"Root Mean Squared Error: {rmse}\")\n"
      ],
      "metadata": {
        "colab": {
          "base_uri": "https://localhost:8080/"
        },
        "id": "CNz79hfpQarG",
        "outputId": "f729f141-2527-40ef-beef-58906c065289"
      },
      "execution_count": null,
      "outputs": [
        {
          "output_type": "stream",
          "name": "stdout",
          "text": [
            "Root Mean Squared Error: 6.888842365434301\n"
          ]
        }
      ]
    },
    {
      "cell_type": "code",
      "source": [
        "total_budget = 200000\n",
        "min_allocation = total_budget * 0.10\n",
        "\n",
        "microsoft_ads_df['Channel'] = 'Microsoft'\n",
        "google_ads_df['Channel'] = 'Google'\n",
        "meta_ads_df['Channel'] = 'Meta'\n",
        "\n",
        "combined_data = pd.concat([microsoft_ads_df, google_ads_df, meta_ads_df], axis=0, ignore_index=True)\n",
        "\n",
        "\n",
        "channel_performance = combined_data.groupby('Channel').agg({\n",
        "    'Cost': 'sum',\n",
        "    'Revenue': 'sum',\n",
        "    'Conversions': 'sum'\n",
        "})\n",
        "\n",
        "channel_performance['budget_allocation'] = (channel_performance['Conversions'] / channel_performance['Conversions'].sum()) * total_budget\n",
        "\n",
        "channel_performance['budget_allocation'] = channel_performance['budget_allocation'].apply(lambda x: max(x, min_allocation))\n",
        "\n",
        "print(channel_performance[['budget_allocation']])\n"
      ],
      "metadata": {
        "colab": {
          "base_uri": "https://localhost:8080/"
        },
        "id": "AeGc9b6PRJtZ",
        "outputId": "31ff190e-a0f8-43be-9487-2dfa791e62ff"
      },
      "execution_count": null,
      "outputs": [
        {
          "output_type": "stream",
          "name": "stdout",
          "text": [
            "           budget_allocation\n",
            "Channel                     \n",
            "Google         139785.226294\n",
            "Meta            27998.717769\n",
            "Microsoft       32216.055937\n"
          ]
        }
      ]
    },
    {
      "cell_type": "code",
      "source": [
        "channel_output = channel_performance[['budget_allocation', 'Conversions']].reset_index()\n",
        "\n",
        "channel_output.to_csv('media_investment_plan_output.csv', index=False)\n",
        "\n",
        "print(\"Final Budget Allocation and Estimated Conversions:\")\n",
        "print(channel_output)\n"
      ],
      "metadata": {
        "colab": {
          "base_uri": "https://localhost:8080/"
        },
        "id": "Nvhu_DR9SM0Y",
        "outputId": "e3d52911-e0b1-42df-9454-1ad0a429e73d"
      },
      "execution_count": null,
      "outputs": [
        {
          "output_type": "stream",
          "name": "stdout",
          "text": [
            "Final Budget Allocation and Estimated Conversions:\n",
            "     Channel  budget_allocation  Conversions\n",
            "0     Google      139785.226294      13954.2\n",
            "1       Meta       27998.717769       2795.0\n",
            "2  Microsoft       32216.055937       3216.0\n"
          ]
        }
      ]
    }
  ]
}